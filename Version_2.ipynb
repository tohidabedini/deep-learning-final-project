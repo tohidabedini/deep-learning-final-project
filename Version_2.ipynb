{
  "nbformat": 4,
  "nbformat_minor": 0,
  "metadata": {
    "kernelspec": {
      "display_name": "Python 3",
      "language": "python",
      "name": "python3"
    },
    "language_info": {
      "codemirror_mode": {
        "name": "ipython",
        "version": 3
      },
      "file_extension": ".py",
      "mimetype": "text/x-python",
      "name": "python",
      "nbconvert_exporter": "python",
      "pygments_lexer": "ipython3",
      "version": "3.6.2"
    },
    "colab": {
      "name": "Version 2.ipynb",
      "provenance": []
    }
  },
  "cells": [
    {
      "cell_type": "code",
      "metadata": {
        "id": "2-vmgBJFj7g7",
        "colab_type": "code",
        "colab": {}
      },
      "source": [
        "import numpy as np\n",
        "import matplotlib.pyplot as plt\n",
        "import pandas as pd\n",
        "\n",
        "from keras.models import Sequential\n",
        "from keras.layers import Dense\n",
        "from keras.layers import LSTM\n",
        "from keras.layers import Dropout\n",
        "\n",
        "days = 40\n",
        "window = 60"
      ],
      "execution_count": 0,
      "outputs": []
    },
    {
      "cell_type": "code",
      "metadata": {
        "id": "74_So7F8j7hg",
        "colab_type": "code",
        "colab": {}
      },
      "source": [
        "dataset_train = pd.read_csv(\"Tejarat.Bank.csv\",delimiter=',',encoding='utf-8')\n",
        "dataset_train.drop(dataset_train.columns[[0, 9]], axis=1, inplace=True)\n",
        "training_set = dataset_train.iloc[:-days, 1:2].values"
      ],
      "execution_count": 0,
      "outputs": []
    },
    {
      "cell_type": "code",
      "metadata": {
        "scrolled": true,
        "id": "_JwCcMlfj7hs",
        "colab_type": "code",
        "colab": {
          "base_uri": "https://localhost:8080/",
          "height": 206
        },
        "outputId": "e173af7f-71c0-4edf-da4b-04fb93bbc408"
      },
      "source": [
        "dataset_train.head()"
      ],
      "execution_count": 114,
      "outputs": [
        {
          "output_type": "execute_result",
          "data": {
            "text/html": [
              "<div>\n",
              "<style scoped>\n",
              "    .dataframe tbody tr th:only-of-type {\n",
              "        vertical-align: middle;\n",
              "    }\n",
              "\n",
              "    .dataframe tbody tr th {\n",
              "        vertical-align: top;\n",
              "    }\n",
              "\n",
              "    .dataframe thead th {\n",
              "        text-align: right;\n",
              "    }\n",
              "</style>\n",
              "<table border=\"1\" class=\"dataframe\">\n",
              "  <thead>\n",
              "    <tr style=\"text-align: right;\">\n",
              "      <th></th>\n",
              "      <th>&lt;DTYYYYMMDD&gt;</th>\n",
              "      <th>&lt;FIRST&gt;</th>\n",
              "      <th>&lt;HIGH&gt;</th>\n",
              "      <th>&lt;LOW&gt;</th>\n",
              "      <th>&lt;CLOSE&gt;</th>\n",
              "      <th>&lt;VALUE&gt;</th>\n",
              "      <th>&lt;VOL&gt;</th>\n",
              "      <th>&lt;OPENINT&gt;</th>\n",
              "      <th>&lt;OPEN&gt;</th>\n",
              "      <th>&lt;LAST&gt;</th>\n",
              "    </tr>\n",
              "  </thead>\n",
              "  <tbody>\n",
              "    <tr>\n",
              "      <th>0</th>\n",
              "      <td>20200127</td>\n",
              "      <td>509.0</td>\n",
              "      <td>535.0</td>\n",
              "      <td>501.0</td>\n",
              "      <td>526.0</td>\n",
              "      <td>605003268509</td>\n",
              "      <td>1150263553</td>\n",
              "      <td>29861</td>\n",
              "      <td>510.0</td>\n",
              "      <td>535.0</td>\n",
              "    </tr>\n",
              "    <tr>\n",
              "      <th>1</th>\n",
              "      <td>20200126</td>\n",
              "      <td>506.0</td>\n",
              "      <td>517.0</td>\n",
              "      <td>504.0</td>\n",
              "      <td>510.0</td>\n",
              "      <td>433305672584</td>\n",
              "      <td>849554308</td>\n",
              "      <td>24742</td>\n",
              "      <td>504.0</td>\n",
              "      <td>507.0</td>\n",
              "    </tr>\n",
              "    <tr>\n",
              "      <th>2</th>\n",
              "      <td>20200125</td>\n",
              "      <td>510.0</td>\n",
              "      <td>511.0</td>\n",
              "      <td>500.0</td>\n",
              "      <td>504.0</td>\n",
              "      <td>372199946702</td>\n",
              "      <td>738249903</td>\n",
              "      <td>23493</td>\n",
              "      <td>507.0</td>\n",
              "      <td>502.0</td>\n",
              "    </tr>\n",
              "    <tr>\n",
              "      <th>3</th>\n",
              "      <td>20200122</td>\n",
              "      <td>504.0</td>\n",
              "      <td>518.0</td>\n",
              "      <td>500.0</td>\n",
              "      <td>507.0</td>\n",
              "      <td>263854397040</td>\n",
              "      <td>520652067</td>\n",
              "      <td>15112</td>\n",
              "      <td>503.0</td>\n",
              "      <td>506.0</td>\n",
              "    </tr>\n",
              "    <tr>\n",
              "      <th>4</th>\n",
              "      <td>20200121</td>\n",
              "      <td>518.0</td>\n",
              "      <td>518.0</td>\n",
              "      <td>497.0</td>\n",
              "      <td>503.0</td>\n",
              "      <td>446317626772</td>\n",
              "      <td>887277547</td>\n",
              "      <td>24078</td>\n",
              "      <td>515.0</td>\n",
              "      <td>502.0</td>\n",
              "    </tr>\n",
              "  </tbody>\n",
              "</table>\n",
              "</div>"
            ],
            "text/plain": [
              "   <DTYYYYMMDD>  <FIRST>  <HIGH>  <LOW>  ...       <VOL>  <OPENINT>  <OPEN>  <LAST>\n",
              "0      20200127    509.0   535.0  501.0  ...  1150263553      29861   510.0   535.0\n",
              "1      20200126    506.0   517.0  504.0  ...   849554308      24742   504.0   507.0\n",
              "2      20200125    510.0   511.0  500.0  ...   738249903      23493   507.0   502.0\n",
              "3      20200122    504.0   518.0  500.0  ...   520652067      15112   503.0   506.0\n",
              "4      20200121    518.0   518.0  497.0  ...   887277547      24078   515.0   502.0\n",
              "\n",
              "[5 rows x 10 columns]"
            ]
          },
          "metadata": {
            "tags": []
          },
          "execution_count": 114
        }
      ]
    },
    {
      "cell_type": "code",
      "metadata": {
        "id": "sd1ukzOWj7h3",
        "colab_type": "code",
        "colab": {}
      },
      "source": [
        "# print(len(training_set))\n",
        "# print(len(dataset_train))"
      ],
      "execution_count": 0,
      "outputs": []
    },
    {
      "cell_type": "code",
      "metadata": {
        "id": "2aGDFdXrj7iK",
        "colab_type": "code",
        "colab": {}
      },
      "source": [
        "from sklearn.preprocessing import MinMaxScaler\n",
        "sc = MinMaxScaler(feature_range = (0, 1))\n",
        "training_set_scaled = sc.fit_transform(training_set)"
      ],
      "execution_count": 0,
      "outputs": []
    },
    {
      "cell_type": "code",
      "metadata": {
        "id": "utFZKXwLj7iV",
        "colab_type": "code",
        "colab": {}
      },
      "source": [
        "X_train = []\n",
        "y_train = []\n",
        "for i in range(window, len(training_set)):\n",
        "    X_train.append(training_set_scaled[i-window:i, 0])\n",
        "    y_train.append(training_set_scaled[i, 0])\n",
        "X_train, y_train = np.array(X_train), np.array(y_train)\n",
        "\n",
        "X_train = np.reshape(X_train, (X_train.shape[0], X_train.shape[1], 1))"
      ],
      "execution_count": 0,
      "outputs": []
    },
    {
      "cell_type": "code",
      "metadata": {
        "id": "Orv_l6bQj7ib",
        "colab_type": "code",
        "colab": {}
      },
      "source": [
        "regressor = Sequential()\n",
        "\n",
        "regressor.add(LSTM(units = 50, return_sequences = True, input_shape = (X_train.shape[1], 1)))\n",
        "regressor.add(Dropout(0.2))\n",
        "\n",
        "regressor.add(LSTM(units = 50, return_sequences = True))\n",
        "regressor.add(Dropout(0.2))\n",
        "\n",
        "regressor.add(LSTM(units = 50, return_sequences = True))\n",
        "regressor.add(Dropout(0.2))\n",
        "\n",
        "regressor.add(LSTM(units = 50))\n",
        "regressor.add(Dropout(0.2))\n",
        "\n",
        "regressor.add(Dense(units = 1))\n",
        "\n",
        "regressor.compile(optimizer = 'adam', loss = 'mean_squared_error',metrics=['mae'])"
      ],
      "execution_count": 0,
      "outputs": []
    },
    {
      "cell_type": "code",
      "metadata": {
        "id": "GN5uC_PQj7il",
        "colab_type": "code",
        "colab": {
          "base_uri": "https://localhost:8080/",
          "height": 1000
        },
        "outputId": "55963dcd-f523-45c3-fd86-837c35cb8223"
      },
      "source": [
        "regressor.fit(X_train, y_train, epochs = 30, batch_size = 32)"
      ],
      "execution_count": 121,
      "outputs": [
        {
          "output_type": "stream",
          "text": [
            "Epoch 1/30\n",
            "2064/2064 [==============================] - 21s 10ms/step - loss: 0.0130 - mean_absolute_error: 0.0686\n",
            "Epoch 2/30\n",
            "2064/2064 [==============================] - 14s 7ms/step - loss: 0.0049 - mean_absolute_error: 0.0411\n",
            "Epoch 3/30\n",
            "2064/2064 [==============================] - 14s 7ms/step - loss: 0.0043 - mean_absolute_error: 0.0370\n",
            "Epoch 4/30\n",
            "2064/2064 [==============================] - 14s 7ms/step - loss: 0.0034 - mean_absolute_error: 0.0324\n",
            "Epoch 5/30\n",
            "2064/2064 [==============================] - 14s 7ms/step - loss: 0.0033 - mean_absolute_error: 0.0318\n",
            "Epoch 6/30\n",
            "2064/2064 [==============================] - 14s 7ms/step - loss: 0.0031 - mean_absolute_error: 0.0321\n",
            "Epoch 7/30\n",
            "2064/2064 [==============================] - 14s 7ms/step - loss: 0.0031 - mean_absolute_error: 0.0331\n",
            "Epoch 8/30\n",
            "2064/2064 [==============================] - 14s 7ms/step - loss: 0.0025 - mean_absolute_error: 0.0281\n",
            "Epoch 9/30\n",
            "2064/2064 [==============================] - 14s 7ms/step - loss: 0.0025 - mean_absolute_error: 0.0287\n",
            "Epoch 10/30\n",
            "2064/2064 [==============================] - 14s 7ms/step - loss: 0.0023 - mean_absolute_error: 0.0271\n",
            "Epoch 11/30\n",
            "2064/2064 [==============================] - 14s 7ms/step - loss: 0.0020 - mean_absolute_error: 0.0247\n",
            "Epoch 12/30\n",
            "2064/2064 [==============================] - 14s 7ms/step - loss: 0.0020 - mean_absolute_error: 0.0248\n",
            "Epoch 13/30\n",
            "2064/2064 [==============================] - 14s 7ms/step - loss: 0.0021 - mean_absolute_error: 0.0273\n",
            "Epoch 14/30\n",
            "2064/2064 [==============================] - 14s 7ms/step - loss: 0.0019 - mean_absolute_error: 0.0249\n",
            "Epoch 15/30\n",
            "2064/2064 [==============================] - 14s 7ms/step - loss: 0.0017 - mean_absolute_error: 0.0236\n",
            "Epoch 16/30\n",
            "2064/2064 [==============================] - 14s 7ms/step - loss: 0.0019 - mean_absolute_error: 0.0263\n",
            "Epoch 17/30\n",
            "2064/2064 [==============================] - 14s 7ms/step - loss: 0.0017 - mean_absolute_error: 0.0223\n",
            "Epoch 18/30\n",
            "2064/2064 [==============================] - 14s 7ms/step - loss: 0.0016 - mean_absolute_error: 0.0233\n",
            "Epoch 19/30\n",
            "2064/2064 [==============================] - 14s 7ms/step - loss: 0.0017 - mean_absolute_error: 0.0249\n",
            "Epoch 20/30\n",
            "2064/2064 [==============================] - 14s 7ms/step - loss: 0.0014 - mean_absolute_error: 0.0212\n",
            "Epoch 21/30\n",
            "2064/2064 [==============================] - 14s 7ms/step - loss: 0.0014 - mean_absolute_error: 0.0217\n",
            "Epoch 22/30\n",
            "2064/2064 [==============================] - 14s 7ms/step - loss: 0.0013 - mean_absolute_error: 0.0201\n",
            "Epoch 23/30\n",
            "2064/2064 [==============================] - 14s 7ms/step - loss: 0.0016 - mean_absolute_error: 0.0233\n",
            "Epoch 24/30\n",
            "2064/2064 [==============================] - 14s 7ms/step - loss: 0.0014 - mean_absolute_error: 0.0212\n",
            "Epoch 25/30\n",
            "2064/2064 [==============================] - 14s 7ms/step - loss: 0.0013 - mean_absolute_error: 0.0209\n",
            "Epoch 26/30\n",
            "2064/2064 [==============================] - 14s 7ms/step - loss: 0.0015 - mean_absolute_error: 0.0235\n",
            "Epoch 27/30\n",
            "2064/2064 [==============================] - 14s 7ms/step - loss: 0.0013 - mean_absolute_error: 0.0211\n",
            "Epoch 28/30\n",
            "2064/2064 [==============================] - 14s 7ms/step - loss: 0.0012 - mean_absolute_error: 0.0197\n",
            "Epoch 29/30\n",
            "2064/2064 [==============================] - 14s 7ms/step - loss: 0.0011 - mean_absolute_error: 0.0187\n",
            "Epoch 30/30\n",
            "2064/2064 [==============================] - 14s 7ms/step - loss: 0.0011 - mean_absolute_error: 0.0191\n"
          ],
          "name": "stdout"
        },
        {
          "output_type": "execute_result",
          "data": {
            "text/plain": [
              "<keras.callbacks.History at 0x7ff1c251c748>"
            ]
          },
          "metadata": {
            "tags": []
          },
          "execution_count": 121
        }
      ]
    },
    {
      "cell_type": "code",
      "metadata": {
        "id": "nY-7N02Zj7is",
        "colab_type": "code",
        "colab": {}
      },
      "source": [
        "dataset_test = pd.read_csv(\"Tejarat.Bank.csv\",delimiter=',',encoding='utf-8')\n",
        "dataset_test.drop(dataset_test.columns[[0, 9]], axis=1, inplace=True)\n",
        "# real_stock_price = dataset_test.iloc[:, 1:].values\n",
        "real_stock_price = dataset_train.iloc[:, 1:2].values"
      ],
      "execution_count": 0,
      "outputs": []
    },
    {
      "cell_type": "code",
      "metadata": {
        "id": "9LPJ2JBMj7i0",
        "colab_type": "code",
        "colab": {}
      },
      "source": [
        "dataset_total = pd.concat((dataset_train['<OPEN>'], dataset_test['<OPEN>']), axis = 0)\n",
        "inputs = dataset_total[len(dataset_total) - len(dataset_test) - 60:].values\n",
        "inputs = inputs.reshape(-1,1)\n",
        "inputs = sc.transform(inputs)\n",
        "X_test = []\n",
        "\n",
        "for i in range(60, len(dataset_test)):\n",
        "  X_test.append(inputs[i-window:i, 0])\n",
        "X_test = np.array(X_test)\n",
        "X_test = np.reshape(X_test, (X_test.shape[0], X_test.shape[1], 1))\n",
        "predicted_stock_price = regressor.predict(X_test)\n",
        "\n",
        "\n",
        "predicted_stock_price = sc.inverse_transform(predicted_stock_price)"
      ],
      "execution_count": 0,
      "outputs": []
    },
    {
      "cell_type": "code",
      "metadata": {
        "id": "jJdi3vJ0j7i-",
        "colab_type": "code",
        "colab": {
          "base_uri": "https://localhost:8080/",
          "height": 295
        },
        "outputId": "b13ec564-de77-4aae-a90a-b128788e5dce"
      },
      "source": [
        "plt.plot(real_stock_price, color = 'orange', label = 'Tejarat Stock Price')\n",
        "plt.plot(predicted_stock_price, color = 'green', label = 'Predicted Tejarat Stock Price')\n",
        "plt.title('Tejarat Stock Price Prediction')\n",
        "plt.xlabel('Time')\n",
        "plt.ylabel('Tejarat Stock Price')\n",
        "plt.legend()\n",
        "plt.show()"
      ],
      "execution_count": 126,
      "outputs": [
        {
          "output_type": "display_data",
          "data": {
            "image/png": "[encoded data removed]",
            "text/plain": [
              "<Figure size 432x288 with 1 Axes>"
            ]
          },
          "metadata": {
            "tags": []
          }
        }
      ]
    },
    {
      "cell_type": "code",
      "metadata": {
        "id": "Z2JN-KbZqyJ6",
        "colab_type": "code",
        "colab": {
          "base_uri": "https://localhost:8080/",
          "height": 953
        },
        "outputId": "59d8509e-6481-4ecb-8966-f35aa4fe66ab"
      },
      "source": [
        "from keras.utils import plot_model\n",
        "plot_model(regressor,to_file=\"model.png\")"
      ],
      "execution_count": 128,
      "outputs": [
        {
          "output_type": "execute_result",
          "data": {
            "image/png": "[encoded data removed]",
            "text/plain": [
              "<IPython.core.display.Image object>"
            ]
          },
          "metadata": {
            "tags": []
          },
          "execution_count": 128
        }
      ]
    },
    {
      "cell_type": "code",
      "metadata": {
        "id": "zsqd3N1SwdNH",
        "colab_type": "code",
        "colab": {}
      },
      "source": [
        "# len(predicted_stock_price)\n",
        "# len(real_stock_price)\n",
        "# len(real_stock_price)\n",
        "# len(inputs)\n",
        "# len(dataset_test)"
      ],
      "execution_count": 0,
      "outputs": []
    }
  ]
}